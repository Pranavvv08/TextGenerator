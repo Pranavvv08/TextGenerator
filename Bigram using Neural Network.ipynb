{
 "cells": [
  {
   "cell_type": "code",
   "execution_count": 4,
   "id": "cb67d995",
   "metadata": {},
   "outputs": [],
   "source": [
    "import torch"
   ]
  },
  {
   "cell_type": "code",
   "execution_count": 24,
   "id": "0ce5c5e2",
   "metadata": {
    "scrolled": true
   },
   "outputs": [],
   "source": [
    "words2=open('first-names.txt','r').read().splitlines()\n",
    "words2=[word.lower() for word in words2]"
   ]
  },
  {
   "cell_type": "code",
   "execution_count": 27,
   "id": "63722292",
   "metadata": {},
   "outputs": [
    {
     "data": {
      "text/plain": [
       "['aaren',\n",
       " 'aarika',\n",
       " 'abagael',\n",
       " 'abagail',\n",
       " 'abbe',\n",
       " 'abbey',\n",
       " 'abbi',\n",
       " 'abbie',\n",
       " 'abby',\n",
       " 'abbye']"
      ]
     },
     "execution_count": 27,
     "metadata": {},
     "output_type": "execute_result"
    }
   ],
   "source": [
    "words2[:10]"
   ]
  },
  {
   "cell_type": "code",
   "execution_count": 6,
   "id": "f04f84e7",
   "metadata": {},
   "outputs": [],
   "source": [
    "chars = sorted(list(set(''.join(words2))))\n",
    "stoi = {s:i+1 for i,s in enumerate(chars)}\n",
    "stoi['.'] = 0\n",
    "itos = {i:s for s,i in stoi.items()}"
   ]
  },
  {
   "cell_type": "code",
   "execution_count": 31,
   "id": "d632d6e3",
   "metadata": {},
   "outputs": [
    {
     "name": "stdout",
     "output_type": "stream",
     "text": [
      ". a\n",
      "a a\n",
      "a r\n",
      "r e\n",
      "e n\n",
      "n .\n"
     ]
    }
   ],
   "source": [
    "#basic bigram structure of one word\n",
    "for w in words2[:1]:\n",
    "  chs = ['.'] + list(w) + ['.']\n",
    "  for ch1, ch2 in zip(chs, chs[1:]):\n",
    "        print(ch1, ch2)\n",
    "# '.' indicates start and end "
   ]
  },
  {
   "cell_type": "code",
   "execution_count": 32,
   "id": "5c5afcb2",
   "metadata": {},
   "outputs": [],
   "source": [
    "xs, ys = [], []\n",
    "\n",
    "for w in words2:\n",
    "  chs = ['.'] + list(w) + ['.']\n",
    "  for ch1, ch2 in zip(chs, chs[1:]):\n",
    "    ix1 = stoi[ch1]\n",
    "    ix2 = stoi[ch2]\n",
    "    xs.append(ix1)\n",
    "    ys.append(ix2)\n",
    "    \n",
    "xs = torch.tensor(xs)\n",
    "ys = torch.tensor(ys)\n",
    "num = xs.nelement()"
   ]
  },
  {
   "cell_type": "code",
   "execution_count": 33,
   "id": "ae1136a4",
   "metadata": {},
   "outputs": [
    {
     "data": {
      "text/plain": [
       "tensor([ 0,  3,  3,  ...,  3, 16,  3])"
      ]
     },
     "execution_count": 33,
     "metadata": {},
     "output_type": "execute_result"
    }
   ],
   "source": [
    "xs"
   ]
  },
  {
   "cell_type": "code",
   "execution_count": 34,
   "id": "18466a83",
   "metadata": {},
   "outputs": [
    {
     "data": {
      "text/plain": [
       "tensor([ 3,  3, 20,  ..., 16,  3,  0])"
      ]
     },
     "execution_count": 34,
     "metadata": {},
     "output_type": "execute_result"
    }
   ],
   "source": [
    "ys"
   ]
  },
  {
   "cell_type": "code",
   "execution_count": 35,
   "id": "58099a16",
   "metadata": {},
   "outputs": [
    {
     "data": {
      "text/plain": [
       "tensor([[1., 0., 0.,  ..., 0., 0., 0.],\n",
       "        [0., 0., 0.,  ..., 0., 0., 0.],\n",
       "        [0., 0., 0.,  ..., 0., 0., 0.],\n",
       "        ...,\n",
       "        [0., 0., 0.,  ..., 0., 0., 0.],\n",
       "        [0., 0., 0.,  ..., 0., 0., 0.],\n",
       "        [0., 0., 0.,  ..., 0., 0., 0.]])"
      ]
     },
     "execution_count": 35,
     "metadata": {},
     "output_type": "execute_result"
    }
   ],
   "source": [
    "import torch.nn.functional as F\n",
    "xenc = F.one_hot(xs, num_classes=29).float()\n",
    "xenc"
   ]
  },
  {
   "cell_type": "code",
   "execution_count": 36,
   "id": "6c4b9f0f",
   "metadata": {},
   "outputs": [
    {
     "data": {
      "text/plain": [
       "tensor([[ 0.1967, -2.7180, -0.1984,  ..., -0.3107,  0.8231, -0.3658],\n",
       "        [ 0.0974, -1.4651, -0.5163,  ...,  0.1253, -0.1510, -0.5046],\n",
       "        [ 0.0974, -1.4651, -0.5163,  ...,  0.1253, -0.1510, -0.5046],\n",
       "        ...,\n",
       "        [ 0.0974, -1.4651, -0.5163,  ...,  0.1253, -0.1510, -0.5046],\n",
       "        [-0.8981,  0.4444,  0.3490,  ..., -1.2383,  0.7975, -0.3611],\n",
       "        [ 0.0974, -1.4651, -0.5163,  ...,  0.1253, -0.1510, -0.5046]])"
      ]
     },
     "execution_count": 36,
     "metadata": {},
     "output_type": "execute_result"
    }
   ],
   "source": [
    "w = torch.randn((29,29))\n",
    "xenc @ w"
   ]
  },
  {
   "cell_type": "code",
   "execution_count": 37,
   "id": "fd092e4b",
   "metadata": {},
   "outputs": [],
   "source": [
    "g = torch.Generator().manual_seed(2147483647)\n",
    "w = torch.randn((29, 29), generator=g, requires_grad=True)"
   ]
  },
  {
   "cell_type": "code",
   "execution_count": 38,
   "id": "501d08ef",
   "metadata": {
    "scrolled": true
   },
   "outputs": [
    {
     "data": {
      "text/plain": [
       "tensor([0, 1, 2, 3, 4])"
      ]
     },
     "execution_count": 38,
     "metadata": {},
     "output_type": "execute_result"
    }
   ],
   "source": [
    "torch.arange(5)"
   ]
  },
  {
   "cell_type": "code",
   "execution_count": 39,
   "id": "d0996106",
   "metadata": {},
   "outputs": [
    {
     "name": "stdout",
     "output_type": "stream",
     "text": [
      "3.846654176712036\n",
      "3.3511712551116943\n",
      "3.1088364124298096\n",
      "2.949463367462158\n",
      "2.8380074501037598\n",
      "2.757619857788086\n",
      "2.697125196456909\n",
      "2.6501410007476807\n",
      "2.612696409225464\n",
      "2.582167625427246\n",
      "2.5567691326141357\n",
      "2.535273313522339\n",
      "2.516833543777466\n",
      "2.500858783721924\n",
      "2.4869205951690674\n",
      "2.4746897220611572\n",
      "2.4638991355895996\n",
      "2.4543285369873047\n",
      "2.4457924365997314\n",
      "2.438136339187622\n",
      "2.43123197555542\n",
      "2.42497181892395\n",
      "2.4192678928375244\n",
      "2.414046287536621\n",
      "2.4092447757720947\n",
      "2.4048118591308594\n",
      "2.4007041454315186\n",
      "2.3968846797943115\n",
      "2.393322229385376\n",
      "2.3899896144866943\n",
      "2.38686466217041\n",
      "2.3839266300201416\n",
      "2.381159782409668\n",
      "2.3785476684570312\n",
      "2.376077890396118\n",
      "2.37373948097229\n",
      "2.371521234512329\n",
      "2.369415044784546\n",
      "2.3674123287200928\n",
      "2.365506172180176\n",
      "2.3636903762817383\n",
      "2.3619582653045654\n",
      "2.3603055477142334\n",
      "2.358727216720581\n",
      "2.3572187423706055\n",
      "2.355776071548462\n",
      "2.354395627975464\n",
      "2.353074550628662\n",
      "2.351808786392212\n",
      "2.3505959510803223\n"
     ]
    }
   ],
   "source": [
    "for k in range(50):\n",
    "  \n",
    "  # forward pass\n",
    "  xenc = F.one_hot(xs, num_classes=29).float()\n",
    "  logits = xenc @ w \n",
    "  counts = logits.exp()\n",
    "  probs = counts / counts.sum(1, keepdims=True)\n",
    "  loss = -probs[torch.arange(num), ys].log().mean() + 0.01*(w**2).mean()\n",
    "  print(loss.item())\n",
    "  \n",
    "  # backward pass\n",
    "  w.grad = None \n",
    "  loss.backward()\n",
    "  \n",
    "  # update\n",
    "  w.data += -50 * w.grad"
   ]
  },
  {
   "cell_type": "code",
   "execution_count": 40,
   "id": "b7fe6483",
   "metadata": {},
   "outputs": [
    {
     "name": "stdout",
     "output_type": "stream",
     "text": [
      "h.\n",
      "mibrianiaierin.\n",
      "adory.\n",
      "ally.\n",
      "stalermarie.\n",
      "de.\n",
      "risa.\n",
      "elybsthane.\n",
      "tana.\n",
      "b-ganipugia.\n"
     ]
    }
   ],
   "source": [
    "g = torch.Generator().manual_seed(2147483647)\n",
    "\n",
    "for i in range(10):\n",
    "    out = []\n",
    "    ix= 0\n",
    "    while True:\n",
    "        xenc = F.one_hot(torch.tensor([ix]), num_classes=29).float()\n",
    "        logits = xenc @ w # predict log-counts\n",
    "        counts = logits.exp() # counts, equivalent to N\n",
    "        p = counts / counts.sum(1, keepdims=True) # probabilities for next character\n",
    "        ix = torch.multinomial(p, num_samples=1, replacement=True, generator=g).item()\n",
    "        out.append(itos[ix])\n",
    "        if ix == 0:\n",
    "            break\n",
    "    print(''.join(out))"
   ]
  }
 ],
 "metadata": {
  "kernelspec": {
   "display_name": "Python 3 (ipykernel)",
   "language": "python",
   "name": "python3"
  },
  "language_info": {
   "codemirror_mode": {
    "name": "ipython",
    "version": 3
   },
   "file_extension": ".py",
   "mimetype": "text/x-python",
   "name": "python",
   "nbconvert_exporter": "python",
   "pygments_lexer": "ipython3",
   "version": "3.12.3"
  }
 },
 "nbformat": 4,
 "nbformat_minor": 5
}
